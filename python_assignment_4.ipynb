{
 "cells": [
  {
   "cell_type": "markdown",
   "id": "50968129",
   "metadata": {},
   "source": [
    "1.1 Write a Python Program(with class concepts) to find the area of the triangle using the below\n",
    "formula.\n",
    "area = (s*(s-a)*(s-b)*(s-c)) ** 0.5\n",
    "Function to take the length of the sides of triangle from user should be defined in the parent\n",
    "class and function to calculate the area should be defined in subclass."
   ]
  },
  {
   "cell_type": "code",
   "execution_count": 9,
   "id": "9f9a99e6",
   "metadata": {},
   "outputs": [
    {
     "name": "stdout",
     "output_type": "stream",
     "text": [
      "The perimeter of the triangle 10.0\n",
      "The area of the triangle is 14.142135623730951\n"
     ]
    }
   ],
   "source": [
    "import math\n",
    "class Triangledim():\n",
    "    def __init__(self,a,b,c):\n",
    "        self.a=a\n",
    "        self.b=b\n",
    "        self.c=c\n",
    "        self.s=(self.a+self.b+self.c)/2\n",
    "        \n",
    "    def checktri(self):\n",
    "        if (self.a+self.b>self.c)&(self.a +self.c>self.b)&(self.b +self.c>self.a):\n",
    "            print ('The perimeter of the triangle {}'.format(self.s))\n",
    "        else:\n",
    "            print('The dimensions do not make a triangle')\n",
    "            \n",
    "class AreaTri(Triangledim):\n",
    "    def findArea(self):\n",
    "        area =math.sqrt(self.s*(self.s-self.a)*(self.s-self.b)*(self.s-self.c))\n",
    "        print('The area of the triangle is {}'.format(area))\n",
    "        \n",
    "if __name__ =='__main__':\n",
    "    p=AreaTri(5,6,9)\n",
    "    p.checktri()\n",
    "    p.findArea()"
   ]
  },
  {
   "cell_type": "markdown",
   "id": "f6b18b0a",
   "metadata": {},
   "source": [
    "1.2 Write a function filter_long_words() that takes a list of words and an integer n and returns\n",
    "the list of words that are longer than n."
   ]
  },
  {
   "cell_type": "code",
   "execution_count": 12,
   "id": "884b9036",
   "metadata": {},
   "outputs": [],
   "source": [
    "def filter_long_words(list_of_words,n):\n",
    "    L=[]\n",
    "    for word in list_of_words:\n",
    "        if len(list(word))>n:\n",
    "            L.append(word)\n",
    "    return L\n",
    "            "
   ]
  },
  {
   "cell_type": "code",
   "execution_count": 13,
   "id": "1f2596e5",
   "metadata": {},
   "outputs": [
    {
     "data": {
      "text/plain": [
       "['coca cola', 'mirinda', 'the sun is so hot']"
      ]
     },
     "execution_count": 13,
     "metadata": {},
     "output_type": "execute_result"
    }
   ],
   "source": [
    "##Illustration\n",
    "list_of_words=['coca cola','mirinda','the sun is so hot','pepsi','fanta']\n",
    "\n",
    "filter_long_words(list_of_words,6)"
   ]
  },
  {
   "cell_type": "markdown",
   "id": "170a3c0e",
   "metadata": {},
   "source": [
    "2.1 Write a Python program using function concept that maps list of words into a list of integers\n",
    "representing the lengths of the corresponding words.\n",
    "Hint: If a list [ ab,cde,erty] is passed on to the python function output should come as [2,3,4]\n",
    "Here 2,3 and 4 are the lengths of the words in the list.\n"
   ]
  },
  {
   "cell_type": "code",
   "execution_count": 15,
   "id": "d5c6f8cf",
   "metadata": {},
   "outputs": [],
   "source": [
    "def word_length(List_of_words):\n",
    "    \n",
    "    L={}\n",
    "    for word in list_of_words:\n",
    "        L[word]=len(word)\n",
    "        \n",
    "    return L\n"
   ]
  },
  {
   "cell_type": "code",
   "execution_count": 16,
   "id": "5c5249fc",
   "metadata": {},
   "outputs": [
    {
     "data": {
      "text/plain": [
       "{'manchester': 10, 'google': 6, 'goal': 4, 'machine': 7}"
      ]
     },
     "execution_count": 16,
     "metadata": {},
     "output_type": "execute_result"
    }
   ],
   "source": [
    "list_of_words=[\"manchester\",\"google\",\"goal\",\"machine\"]\n",
    "word_length(list_of_words)"
   ]
  },
  {
   "cell_type": "markdown",
   "id": "fa49532f",
   "metadata": {},
   "source": [
    "2.2 Write a Python function which takes a character (i.e. a string of length 1) and returns True if\n",
    "it is a vowel, False otherwise."
   ]
  },
  {
   "cell_type": "code",
   "execution_count": 32,
   "id": "836260a7",
   "metadata": {},
   "outputs": [],
   "source": [
    "def is_vowel(letter):\n",
    "    if str(letter).lower() in ['a','e','i','o','u']:\n",
    "        return True\n",
    "    else:\n",
    "        return False\n",
    "        "
   ]
  },
  {
   "cell_type": "code",
   "execution_count": 33,
   "id": "67dd0e33",
   "metadata": {},
   "outputs": [
    {
     "data": {
      "text/plain": [
       "False"
      ]
     },
     "execution_count": 33,
     "metadata": {},
     "output_type": "execute_result"
    }
   ],
   "source": [
    "letter='B'\n",
    "is_vowel(letter)"
   ]
  },
  {
   "cell_type": "code",
   "execution_count": 35,
   "id": "f1963350",
   "metadata": {},
   "outputs": [
    {
     "data": {
      "text/plain": [
       "True"
      ]
     },
     "execution_count": 35,
     "metadata": {},
     "output_type": "execute_result"
    }
   ],
   "source": [
    "letter='A'\n",
    "is_vowel(letter)"
   ]
  },
  {
   "cell_type": "code",
   "execution_count": null,
   "id": "aa98d230",
   "metadata": {},
   "outputs": [],
   "source": []
  },
  {
   "cell_type": "code",
   "execution_count": null,
   "id": "f6de195d",
   "metadata": {},
   "outputs": [],
   "source": []
  }
 ],
 "metadata": {
  "kernelspec": {
   "display_name": "Python 3",
   "language": "python",
   "name": "python3"
  },
  "language_info": {
   "codemirror_mode": {
    "name": "ipython",
    "version": 3
   },
   "file_extension": ".py",
   "mimetype": "text/x-python",
   "name": "python",
   "nbconvert_exporter": "python",
   "pygments_lexer": "ipython3",
   "version": "3.8.8"
  }
 },
 "nbformat": 4,
 "nbformat_minor": 5
}
